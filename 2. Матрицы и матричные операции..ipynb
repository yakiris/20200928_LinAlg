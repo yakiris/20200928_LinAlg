{
 "cells": [
  {
   "cell_type": "markdown",
   "metadata": {},
   "source": [
    "## Тема: Матрицы и матричные операции"
   ]
  },
  {
   "cell_type": "code",
   "execution_count": 3,
   "metadata": {},
   "outputs": [],
   "source": [
    "import numpy as np"
   ]
  },
  {
   "cell_type": "markdown",
   "metadata": {},
   "source": [
    "**Часть 1**\n",
    "\n",
    "### 1. Установить, какие произведения матриц $AB$ и $BA$ определены, и найти размерности полученных матриц:\n",
    "\n",
    "   **а)** $A$ — матрица $4\\times 2$, $B$ — матрица $4\\times 2$;\n",
    "   \n",
    "**Решение**\n",
    "   \n",
    "произведение матрицы $AB$ не определено, т.к. число столбцов матрицы $A$ не равно числу строк матрицы $B$  \n",
    "произведение матрицы $BA$ не определено, т.к. число столбцов матрицы $A$ не равно числу строк матрицы $B$\n",
    "    \n",
    "   **б)** $A$ — матрица $2\\times 5$, $B$ — матрица $5\\times 3$;\n",
    "   \n",
    "**Решение**\n",
    "   \n",
    "произведение матрицы $AB$ определено, размерность матрицы 2 х 3  \n",
    "произведение матрицы $BA$ не определено, т.к. число столбцов матрицы $A$ не равно числу строк матрицы $B$"
   ]
  },
  {
   "cell_type": "code",
   "execution_count": 105,
   "metadata": {},
   "outputs": [
    {
     "name": "stdout",
     "output_type": "stream",
     "text": [
      "б) Размермость произведения матриц: A(2х5) и B(5х3) = (2, 3)\n"
     ]
    }
   ],
   "source": [
    "Ab = np.ones((2, 5))\n",
    "Bb = np.ones((5, 3))\n",
    "print(f'б) Размермость произведения матриц: A(2х5) и B(5х3) = {np.shape(Ab @ Bb)}')"
   ]
  },
  {
   "cell_type": "markdown",
   "metadata": {},
   "source": [
    "   **в)** $A$ — матрица $8\\times 3$, $B$ — матрица $3\\times 8$;\n",
    "   \n",
    "**Решение**\n",
    "   \n",
    "произведение матрицы $AB$ определено, размерность матрицы 8 х 8  \n",
    "произведение матрицы $BA$ определено, размерность матрицы 3 х 3 "
   ]
  },
  {
   "cell_type": "code",
   "execution_count": 106,
   "metadata": {},
   "outputs": [
    {
     "name": "stdout",
     "output_type": "stream",
     "text": [
      "в) Размермость произведения матриц: A(8х3) и B(3х8) = (8, 8); B(3х8) и A(8х3) = (3, 3)\n"
     ]
    }
   ],
   "source": [
    "Av = np.ones((8, 3))\n",
    "Bv = np.ones((3, 8))\n",
    "print(f'в) Размермость произведения матриц: A(8х3) и B(3х8) = {np.shape(Av @ Bv)}; B(3х8) и A(8х3) = {np.shape(Bv @ Av)}')"
   ]
  },
  {
   "cell_type": "markdown",
   "metadata": {},
   "source": [
    "   **г)** $A$ — квадратная матрица $4\\times 4$, $B$ — квадратная матрица $4\\times 4$.\n",
    "   \n",
    "**Решение**\n",
    "   \n",
    "произведение матрицы $AB$ определено, размерность матрицы 4 х 4   \n",
    "произведение матрицы $BA$ определено, размерность матрицы 4 х 4 "
   ]
  },
  {
   "cell_type": "code",
   "execution_count": 107,
   "metadata": {},
   "outputs": [
    {
     "name": "stdout",
     "output_type": "stream",
     "text": [
      "г) Размермость произведения матриц: A(8х3) и B(3х8) = (4, 4); B(3х8) и A(8х3) = (4, 4)\n"
     ]
    }
   ],
   "source": [
    "Ag = np.ones((4, 4))\n",
    "Bg = np.ones((4, 4))\n",
    "\n",
    "print(f'г) Размермость произведения матриц: A(8х3) и B(3х8) = {np.shape(Ag @ Bg)}; B(3х8) и A(8х3) = {np.shape(Bg @ Ag)}')"
   ]
  },
  {
   "cell_type": "markdown",
   "metadata": {},
   "source": [
    "### 2. Найти сумму и произведение матриц $A=\\begin{pmatrix}\n",
    "1 & -2\\\\ \n",
    "3 & 0\n",
    "\\end{pmatrix}$ и $B=\\begin{pmatrix}\n",
    "4 & -1\\\\ \n",
    "0 & 5\n",
    "\\end{pmatrix}.$\n",
    "\n",
    "**Решение**\n",
    "\n",
    "A + B = $\\begin{pmatrix}\n",
    "1 & -2\\\\ \n",
    "3 & 0\n",
    "\\end{pmatrix}$ + \n",
    "$\\begin{pmatrix}\n",
    "4 & -1\\\\ \n",
    "0 & 5\n",
    "\\end{pmatrix}$ = \n",
    "$\\begin{pmatrix}\n",
    "1 + 4 & -2 - 1\\\\ \n",
    "3 + 0 & 0 + 5\n",
    "\\end{pmatrix}$=\n",
    "$\\begin{pmatrix}\n",
    "5 & -3\\\\ \n",
    "3 & 5\n",
    "\\end{pmatrix}$\n",
    "\n",
    "\n",
    "A * B = $\\begin{pmatrix}\n",
    "1 & -2\\\\ \n",
    "3 & 0\n",
    "\\end{pmatrix}$ * \n",
    "$\\begin{pmatrix}\n",
    "4 & -1\\\\ \n",
    "0 & 5\n",
    "\\end{pmatrix}$ = \n",
    "$\\begin{pmatrix}\n",
    "(1*4 + (-2)*0) & (1*(-1) + (-2)*5)\\\\ \n",
    "(3*4 + 0*0) & (3*(-1) + 0*5)\n",
    "\\end{pmatrix}$ =\n",
    "$\\begin{pmatrix}\n",
    "4 & -11\\\\ \n",
    "12 & -3\n",
    "\\end{pmatrix}$  \n",
    "\n",
    "B * A  =\n",
    "$\\begin{pmatrix}\n",
    "4 & -1\\\\ \n",
    "0 & 5\n",
    "\\end{pmatrix}$ * \n",
    "$\\begin{pmatrix}\n",
    "1 & -2\\\\ \n",
    "3 & 0\n",
    "\\end{pmatrix}$ =\n",
    "$\\begin{pmatrix}\n",
    "1 & -8\\\\ \n",
    "15 & 0\n",
    "\\end{pmatrix}$"
   ]
  },
  {
   "cell_type": "code",
   "execution_count": 44,
   "metadata": {},
   "outputs": [
    {
     "data": {
      "text/plain": [
       "array([[ 5, -3],\n",
       "       [ 3,  5]])"
      ]
     },
     "execution_count": 44,
     "metadata": {},
     "output_type": "execute_result"
    }
   ],
   "source": [
    "A = np.array([[1, -2],[3, 0]])\n",
    "B = np.array([[4, -1],[0, 5]])\n",
    "C = A + B\n",
    "C"
   ]
  },
  {
   "cell_type": "code",
   "execution_count": 45,
   "metadata": {},
   "outputs": [
    {
     "data": {
      "text/plain": [
       "array([[  4, -11],\n",
       "       [ 12,  -3]])"
      ]
     },
     "execution_count": 45,
     "metadata": {},
     "output_type": "execute_result"
    }
   ],
   "source": [
    "AB = A @ B\n",
    "AB"
   ]
  },
  {
   "cell_type": "code",
   "execution_count": 46,
   "metadata": {},
   "outputs": [
    {
     "data": {
      "text/plain": [
       "array([[ 1, -8],\n",
       "       [15,  0]])"
      ]
     },
     "execution_count": 46,
     "metadata": {},
     "output_type": "execute_result"
    }
   ],
   "source": [
    "BA = B @ A\n",
    "BA"
   ]
  },
  {
   "cell_type": "markdown",
   "metadata": {},
   "source": [
    "### 3. Из закономерностей сложения и умножения матриц на число можно сделать вывод, что матрицы одного размера образуют линейное пространство. Вычислить линейную комбинацию $3A-2B+4C$ для матриц $A=\\begin{pmatrix}\n",
    "1 & 7\\\\ \n",
    "3 & -6\n",
    "\\end{pmatrix}$, $B=\\begin{pmatrix}\n",
    "0 & 5\\\\ \n",
    "2 & -1\n",
    "\\end{pmatrix}$, $C=\\begin{pmatrix}\n",
    "2 & -4\\\\ \n",
    "1 & 1\n",
    "\\end{pmatrix}.$\n",
    "\n",
    "**Решение**\n",
    "\n",
    "$3A-2B+4C$ = $3*\\begin{pmatrix}1 & 7\\\\ 3 & -6\\end{pmatrix}$ - $2*\\begin{pmatrix}0 & 5\\\\ 2 & -1\\end{pmatrix}$ + $4*\\begin{pmatrix}2 & -4\\\\ 1 & 1\\end{pmatrix}$ = $\\begin{pmatrix}3 & 21\\\\ 9 & -18\\end{pmatrix}$ - $\\begin{pmatrix}0 & 10\\\\ 4 & -2\\end{pmatrix}$ + $\\begin{pmatrix}8 & -16\\\\ 4 & 4\\end{pmatrix}$ = $\\begin{pmatrix}11 & -5\\\\ 9 & -12\\end{pmatrix}$"
   ]
  },
  {
   "cell_type": "code",
   "execution_count": 31,
   "metadata": {},
   "outputs": [
    {
     "name": "stdout",
     "output_type": "stream",
     "text": [
      "[[ 11  -5]\n",
      " [  9 -12]]\n"
     ]
    }
   ],
   "source": [
    "A = np.array([[1, 7],[3, -6]])\n",
    "B = np.array([[0, 5],[2, -1]])\n",
    "C = np.array([[2, -4],[1, 1]])\n",
    "\n",
    "print(3*A - 2*B + 4*C)"
   ]
  },
  {
   "cell_type": "markdown",
   "metadata": {},
   "source": [
    "### 4. Дана матрица $A=\\begin{pmatrix}\n",
    "4 & 1\\\\ \n",
    "5 & -2\\\\ \n",
    "2 & 3\n",
    "\\end{pmatrix}$. Вычислить $AA^{T}$ и $A^{T}A$.\n",
    "\n",
    "**Решение**"
   ]
  },
  {
   "cell_type": "code",
   "execution_count": 34,
   "metadata": {},
   "outputs": [
    {
     "data": {
      "text/plain": [
       "array([[ 4,  5,  2],\n",
       "       [ 1, -2,  3]])"
      ]
     },
     "execution_count": 34,
     "metadata": {},
     "output_type": "execute_result"
    }
   ],
   "source": [
    "A = np.array([[4, 1],[5, -2],[2, 3]])\n",
    "AT = A.T\n",
    "AT"
   ]
  },
  {
   "cell_type": "code",
   "execution_count": 35,
   "metadata": {},
   "outputs": [
    {
     "data": {
      "text/plain": [
       "array([[17, 18, 11],\n",
       "       [18, 29,  4],\n",
       "       [11,  4, 13]])"
      ]
     },
     "execution_count": 35,
     "metadata": {},
     "output_type": "execute_result"
    }
   ],
   "source": [
    "B = A @ AT\n",
    "B"
   ]
  },
  {
   "cell_type": "code",
   "execution_count": 36,
   "metadata": {},
   "outputs": [
    {
     "data": {
      "text/plain": [
       "array([[45,  0],\n",
       "       [ 0, 14]])"
      ]
     },
     "execution_count": 36,
     "metadata": {},
     "output_type": "execute_result"
    }
   ],
   "source": [
    "B1 = AT @ A\n",
    "B1"
   ]
  },
  {
   "cell_type": "markdown",
   "metadata": {},
   "source": [
    "### 5*. Написать на Python функцию для перемножения двух произвольных матриц, не используя NumPy.\n",
    "\n",
    "**Решение**"
   ]
  },
  {
   "cell_type": "code",
   "execution_count": 89,
   "metadata": {},
   "outputs": [
    {
     "name": "stdout",
     "output_type": "stream",
     "text": [
      "[[34, 29], [67, 52]]\n"
     ]
    }
   ],
   "source": [
    "matrix1 = [[2, 5, 4], [3, 6, 8]]\n",
    "matrix2 = [[1, 2], [0, 1], [8, 5]]\n",
    "\n",
    "matrix3 = [[0 for x in range(len(matrix1))] for y in range(len(matrix1))] \n",
    "\n",
    "for i in range(len(matrix1)):\n",
    "    for j in range(len(matrix2[0])):\n",
    "        for k in range(len(matrix2)):\n",
    "            matrix3[i][j] += matrix1[i][k] * matrix2[k][j]\n",
    "        \n",
    "print(matrix3)"
   ]
  },
  {
   "cell_type": "markdown",
   "metadata": {},
   "source": [
    "**Часть 1**\n",
    "\n",
    "### 1. Вычислить определитель:\n",
    "\n",
    "   **a)**$\\begin{vmatrix}\n",
    "sinx & -cosx\\\\ \n",
    "cosx & sinx\n",
    "\\end{vmatrix}$\n",
    "\n",
    "**Решение**\n",
    "\n",
    "$sin^2x + cos^2x = 1$"
   ]
  },
  {
   "cell_type": "code",
   "execution_count": 130,
   "metadata": {},
   "outputs": [
    {
     "data": {
      "text/plain": [
       "1.0"
      ]
     },
     "execution_count": 130,
     "metadata": {},
     "output_type": "execute_result"
    }
   ],
   "source": [
    "x = 15\n",
    "A = np.array([[np.sin(x), -np.cos(x)], [np.cos(x), np.sin(x)]])\n",
    "np.linalg.det(A)"
   ]
  },
  {
   "cell_type": "markdown",
   "metadata": {},
   "source": [
    "   **б)**$\\begin{vmatrix}\n",
    "4 & 2 & 3\\\\ \n",
    "0 & 5 & 1\\\\ \n",
    "0 & 0 & 9\n",
    "\\end{vmatrix}$\n",
    "\n",
    "**Решение**\n",
    "\n",
    "$4\\cdot\\begin{vmatrix}\n",
    "5 & 1\\\\ \n",
    "0 & 9\n",
    "\\end{vmatrix}-\n",
    "2\\cdot\\begin{vmatrix}\n",
    "0 & 1\\\\ \n",
    "0 & 9\n",
    "\\end{vmatrix}+\n",
    "3\\cdot\\begin{vmatrix}\n",
    "0 & 5\\\\ \n",
    "0 & 0\n",
    "\\end{vmatrix}=4\\cdot(5\\cdot9-1\\cdot0)-2\\cdot(0\\cdot9-1\\cdot0)+3\\cdot(0\\cdot0-5\\cdot0) = 180 - 0 + 0 = 180$\n",
    "    "
   ]
  },
  {
   "cell_type": "code",
   "execution_count": 92,
   "metadata": {},
   "outputs": [
    {
     "data": {
      "text/plain": [
       "180.0"
      ]
     },
     "execution_count": 92,
     "metadata": {},
     "output_type": "execute_result"
    }
   ],
   "source": [
    "B = np.array([[4, 2, 3], [0, 5, 1], [0, 0, 9]])\n",
    "np.linalg.det(B)"
   ]
  },
  {
   "cell_type": "markdown",
   "metadata": {},
   "source": [
    "**в)**$\\begin{vmatrix}\n",
    "1 & 2 & 3\\\\ \n",
    "4 & 5 & 6\\\\ \n",
    "7 & 8 & 9\n",
    "\\end{vmatrix}$\n",
    "\n",
    "**Решение**\n",
    "\n",
    "$1\\cdot\\begin{vmatrix}\n",
    "5 & 6\\\\ \n",
    "8 & 9\n",
    "\\end{vmatrix}-\n",
    "2\\cdot\\begin{vmatrix}\n",
    "4 & 6\\\\ \n",
    "7 & 9\n",
    "\\end{vmatrix}+\n",
    "3\\cdot\\begin{vmatrix}\n",
    "4 & 5\\\\ \n",
    "7 & 8\n",
    "\\end{vmatrix}=1\\cdot(5\\cdot9-6\\cdot8)-2\\cdot(4\\cdot9-6\\cdot7)+3\\cdot(4\\cdot8-5\\cdot7)= -3 + 12 - 9 = 0$"
   ]
  },
  {
   "cell_type": "code",
   "execution_count": 103,
   "metadata": {},
   "outputs": [
    {
     "data": {
      "text/plain": [
       "-0.0"
      ]
     },
     "execution_count": 103,
     "metadata": {},
     "output_type": "execute_result"
    }
   ],
   "source": [
    "V = np.array([[1, 2, 3], [4, 5, 6], [7, 8, 9]])\n",
    "np.round(np.linalg.det(V))"
   ]
  },
  {
   "cell_type": "markdown",
   "metadata": {},
   "source": [
    "### 2. Определитель матрицы $A$ равен $4$. Найти:"
   ]
  },
  {
   "cell_type": "code",
   "execution_count": 131,
   "metadata": {},
   "outputs": [
    {
     "data": {
      "text/plain": [
       "4.0"
      ]
     },
     "execution_count": 131,
     "metadata": {},
     "output_type": "execute_result"
    }
   ],
   "source": [
    "A = np.array([[1, 2, 1], [0, 2, 1], [0, 0, 2]])\n",
    "np.linalg.det(A)"
   ]
  },
  {
   "cell_type": "markdown",
   "metadata": {},
   "source": [
    "**а)** $det(A^{2})$;\n",
    "\n",
    "$4^2 = 16$"
   ]
  },
  {
   "cell_type": "code",
   "execution_count": 132,
   "metadata": {},
   "outputs": [
    {
     "data": {
      "text/plain": [
       "16.0"
      ]
     },
     "execution_count": 132,
     "metadata": {},
     "output_type": "execute_result"
    }
   ],
   "source": [
    "np.round(np.linalg.det(A @ A))"
   ]
  },
  {
   "cell_type": "markdown",
   "metadata": {},
   "source": [
    "  **б)** $det(A^{T})$;  \n",
    "4"
   ]
  },
  {
   "cell_type": "code",
   "execution_count": 133,
   "metadata": {},
   "outputs": [
    {
     "data": {
      "text/plain": [
       "4.0"
      ]
     },
     "execution_count": 133,
     "metadata": {},
     "output_type": "execute_result"
    }
   ],
   "source": [
    "np.round(np.linalg.det(A.T))"
   ]
  },
  {
   "cell_type": "markdown",
   "metadata": {},
   "source": [
    "**в)** $det(2A)$.  \n",
    "2 * 4 = 8"
   ]
  },
  {
   "cell_type": "code",
   "execution_count": 134,
   "metadata": {},
   "outputs": [
    {
     "data": {
      "text/plain": [
       "32.0"
      ]
     },
     "execution_count": 134,
     "metadata": {},
     "output_type": "execute_result"
    }
   ],
   "source": [
    "np.round(np.linalg.det(2*A)) #???"
   ]
  },
  {
   "cell_type": "markdown",
   "metadata": {},
   "source": [
    "### 3.  Доказать, что матрица $\\begin{pmatrix}-2 & 7 & -3\\\\ 4 & -14 & 6\\\\ -3 & 7 & 13\\end{pmatrix}$ вырожденная.\n",
    "\n",
    "**Решение**\n",
    "\n",
    "$-2\\cdot\\begin{vmatrix}\n",
    "-14 & 6\\\\ \n",
    "7 & 13\n",
    "\\end{vmatrix}-\n",
    "7\\cdot\\begin{vmatrix}\n",
    "4 & 6\\\\ \n",
    "-3 & 13\n",
    "\\end{vmatrix}-\n",
    "3\\cdot\\begin{vmatrix}\n",
    "4 & -14\\\\ \n",
    "-3 & 7\n",
    "\\end{vmatrix}=-2\\cdot(-14\\cdot13-6\\cdot7)-7\\cdot(4\\cdot13-6\\cdot-3)-3\\cdot(4\\cdot7-(-14)\\cdot-3)= 448 - 490 + 42 = 0$"
   ]
  },
  {
   "cell_type": "code",
   "execution_count": 104,
   "metadata": {},
   "outputs": [
    {
     "data": {
      "text/plain": [
       "0.0"
      ]
     },
     "execution_count": 104,
     "metadata": {},
     "output_type": "execute_result"
    }
   ],
   "source": [
    "A = np.array([[-2, 7, -3], [4, -14, 6], [-3, 7, 13]])\n",
    "np.round(np.linalg.det(A))"
   ]
  },
  {
   "cell_type": "markdown",
   "metadata": {},
   "source": [
    "### 4. Найти ранг матрицы:\n",
    "\n",
    "   **а)** $\\begin{pmatrix}\n",
    "1 & 2 & 3\\\\ \n",
    "1 & 1 & 1\\\\ \n",
    "2 & 3 & 4\n",
    "\\end{pmatrix}$\n",
    "\n",
    "**Решение**\n",
    "\n",
    "Третья строка является суммой первой и второй строк, а значит, ее можно отбросить:\n",
    "\n",
    "$\\begin{pmatrix}\n",
    "1 & 2 & 3\\\\ \n",
    "1 & 1 & 1\n",
    "\\end{pmatrix}$\n",
    "\n",
    "Вычтем из второй строки первую:\n",
    "\n",
    "$\\begin{pmatrix}\n",
    "1 & 2 & 3\\\\ \n",
    "0 & -1 & -2\n",
    "\\end{pmatrix}$\n",
    "\n",
    "Таким образом, ранг матрицы равен 2."
   ]
  },
  {
   "cell_type": "code",
   "execution_count": 108,
   "metadata": {},
   "outputs": [
    {
     "name": "stdout",
     "output_type": "stream",
     "text": [
      "Ранг матрицы: 2\n"
     ]
    }
   ],
   "source": [
    "a = np.array([[1, 2, 3], [1, 1, 1], [2, 3, 4]])\n",
    "r = np.linalg.matrix_rank(a)\n",
    "\n",
    "print(f'Ранг матрицы: {r}')"
   ]
  },
  {
   "cell_type": "markdown",
   "metadata": {},
   "source": [
    "   **б)** $\\begin{pmatrix}\n",
    "0 & 0 & 2 & 1\\\\ \n",
    "0 & 0 & 2 & 2\\\\ \n",
    "0 & 0 & 4 & 3\\\\ \n",
    "2 & 3 & 5 & 6\n",
    "\\end{pmatrix}$\n",
    "\n",
    "**Решение**"
   ]
  },
  {
   "cell_type": "code",
   "execution_count": 110,
   "metadata": {},
   "outputs": [
    {
     "name": "stdout",
     "output_type": "stream",
     "text": [
      "Ранг матрицы: 3\n"
     ]
    }
   ],
   "source": [
    "b = np.array([[0, 0, 2, 1], [0, 0, 2, 2], [0, 0, 4, 3], [2, 3, 5, 6]])\n",
    "r = np.linalg.matrix_rank(b)\n",
    "\n",
    "print(f'Ранг матрицы: {r}')"
   ]
  },
  {
   "cell_type": "code",
   "execution_count": null,
   "metadata": {},
   "outputs": [],
   "source": []
  }
 ],
 "metadata": {
  "kernelspec": {
   "display_name": "Python 3",
   "language": "python",
   "name": "python3"
  },
  "language_info": {
   "codemirror_mode": {
    "name": "ipython",
    "version": 3
   },
   "file_extension": ".py",
   "mimetype": "text/x-python",
   "name": "python",
   "nbconvert_exporter": "python",
   "pygments_lexer": "ipython3",
   "version": "3.7.4"
  }
 },
 "nbformat": 4,
 "nbformat_minor": 2
}
