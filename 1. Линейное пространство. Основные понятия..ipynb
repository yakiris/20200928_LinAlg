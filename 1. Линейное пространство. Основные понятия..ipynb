{
 "cells": [
  {
   "cell_type": "markdown",
   "metadata": {},
   "source": [
    "## Тема: Линейное пространство. Основные понятия.\n",
    "**Часть 1**"
   ]
  },
  {
   "cell_type": "markdown",
   "metadata": {},
   "source": [
    "### 1. Исследовать на линейную зависимость:\n",
    "$$f_{1}(x)=e^{x}, f_{2}(x)=1, f_{3}(x)=x+1, f_{4}(x)=x-e^{x}.$$\n",
    "\n",
    "**Решение**  \n",
    "\n",
    "$f_{4}(x) = f_{3}(x) - f_{2}(x) - f_{1}(x) = x + 1 - 1 - e^{x} = x - e^{x}$\n",
    "\n",
    "Векторы линейно зависимы."
   ]
  },
  {
   "cell_type": "markdown",
   "metadata": {},
   "source": [
    "### 2. Исследовать на линейную зависимость:\n",
    "$$f_{1}(x)=2, f_{2}(x)=x, f_{3}(x)=x^{2}, f_{4}(x)=(x+1)^{2}.$$\n",
    "\n",
    "**Решение**  \n",
    "\n",
    "$f_{4}(x) = f_{3}(x) + 2f_{2}(x) + 0.5f_{1}(x) = x^2 + 2x + 1 = (x + 1)^2$\n",
    "\n",
    "Векторы линейно зависимы."
   ]
  },
  {
   "cell_type": "markdown",
   "metadata": {},
   "source": [
    "### 3. Найти координаты вектора $x = (2, 3, 5)\\in \\mathbb{R}^{3}$ в базисе $b_{1}=(0, 0, 10)$, $b_{2}=(2, 0, 0)$, $b_{3}=(0, 1, 0)$.\n",
    "\n",
    "**Решение**\n",
    "\n",
    "x = (2, 3, 5) = 0.5 $\\cdot$ (0, 0, 10) + 1 $\\cdot$ (2, 0, 0) + 3 $\\cdot$ (0, 1, 0) = (0.5, 1, 3)"
   ]
  },
  {
   "cell_type": "markdown",
   "metadata": {},
   "source": [
    "### 4. Найти координаты вектора $3x^{2}-2x+2\\in\\mathbb{R}^{3}[x]$:\n",
    "\n",
    "   а) в базисе $1$, $x$, $x^{2}$;  \n",
    "   \n",
    "   б) в базисе $x^{2}$, $x-1$, $1$\n",
    "   \n",
    "**Pешение**\n",
    "\n",
    " а) (2, -2, 3)\n",
    " \n",
    " б) (3, -2, 0)"
   ]
  },
  {
   "cell_type": "markdown",
   "metadata": {},
   "source": [
    "### 5. Установить, является ли линейным подпространством:\n",
    "\n",
    "а) совокупность всех векторов трехмерного пространства, у которых по крайней мере одна из первых двух координат равна нулю;\n",
    "    \n",
    "-- б) все векторы, являющиеся линейными комбинациями данных векторов $\\{u_{1}, u_{2}, ..., u_{n}\\}$.\n",
    "\n",
    "**Решение**\n",
    "\n",
    "a) совокупность всех векторов трехмерного пространства = $(0, a, b)$\n",
    "\n",
    "$$(0, a, b)+(с, 0, d) = (с, a, b+d),$$\n",
    "$$\\lambda\\cdot (0, a, b) = (0, \\lambda a, \\lambda b).$$\n",
    "\n",
    "Полученные векторы не принадлежат множеству всех векторов вида $(0, a, b)$, то есть данное множество не является подпространством линейного пространства."
   ]
  },
  {
   "cell_type": "markdown",
   "metadata": {},
   "source": [
    "**Часть 2**"
   ]
  },
  {
   "cell_type": "code",
   "execution_count": 1,
   "metadata": {},
   "outputs": [],
   "source": [
    "import numpy as np\n",
    "from numpy.linalg import norm"
   ]
  },
  {
   "cell_type": "markdown",
   "metadata": {},
   "source": [
    "### 1. Найти скалярное произведение векторов $x, y \\in \\mathbb{R}$:<br>\n",
    "а) $x=(0,-3, 6),~y=(-4, 7, 9);$<br>\n",
    "б) $x=(7, -4, 0, 1),~y=(-3, 1, 11, 2).$\n",
    "\n",
    "**Решение**\n",
    "\n",
    "а) x * y = (0 * -4) + (-3 * 7) + (6 * 9) = 0 - 21 + 54 = 33\n",
    "\n",
    "б) x * y = (7 * -3) + (-4 * 1) + (0 * 11) + (1 * 2) = -21 - 4 + 0 + 2 = -23"
   ]
  },
  {
   "cell_type": "code",
   "execution_count": 8,
   "metadata": {},
   "outputs": [
    {
     "name": "stdout",
     "output_type": "stream",
     "text": [
      "а) скалярное произведение x и y: 33\n",
      "б) скалярное произведение x и y: -23\n"
     ]
    }
   ],
   "source": [
    "x1 = np.array([0, -3, 6])\n",
    "y1 = np.array([-4, 7, 9])\n",
    "print(f'а) скалярное произведение x и y: {np.dot(x1, y1)}')\n",
    "\n",
    "x2 = np.array([7, -4, 0, 1])\n",
    "y2 = np.array([-3, 1, 11, 2])\n",
    "print(f'б) скалярное произведение x и y: {x2 @ y2}')"
   ]
  },
  {
   "cell_type": "markdown",
   "metadata": {},
   "source": [
    "### 2. Найти нормы векторов $(4, 2, 4)$ и $(12, 3, 4)$ и угол между ними.\n",
    "\n",
    "**Решение**\n",
    "\n",
    "$||a||_2 = \\sqrt{4^2 + 2^2 + 4^2} = \\sqrt{16 + 4 + 16} = \\sqrt{36} = 6$\n",
    "\n",
    "$||b||_2 = \\sqrt{12^2 + 3^2 + 4^2} = \\sqrt{144 + 9 + 16} = \\sqrt{169} = 13$\n",
    "\n",
    "$cos\\varphi = \\frac{4\\cdot12+2\\cdot3+4\\cdot4}{||a||_2\\cdot||b||_2}=\\frac{48+6+16}{6\\cdot13} = \\frac{70}{78}\\approx 0.9$"
   ]
  },
  {
   "cell_type": "code",
   "execution_count": 3,
   "metadata": {},
   "outputs": [],
   "source": [
    "a = np.array([4, 2, 4])\n",
    "b = np.array([12, 3, 4])"
   ]
  },
  {
   "cell_type": "code",
   "execution_count": 4,
   "metadata": {},
   "outputs": [
    {
     "name": "stdout",
     "output_type": "stream",
     "text": [
      "l1 норма вектора a: 10.0\n",
      "l1 норма вектора b: 19.0\n"
     ]
    }
   ],
   "source": [
    "print(f'l1 норма вектора a: {norm(a, ord=1)}')\n",
    "print(f'l1 норма вектора b: {norm(b, 1)}')"
   ]
  },
  {
   "cell_type": "code",
   "execution_count": 6,
   "metadata": {},
   "outputs": [
    {
     "name": "stdout",
     "output_type": "stream",
     "text": [
      "l2 норма вектора a: 6.0\n",
      "l2 норма вектора b: 13.0\n"
     ]
    }
   ],
   "source": [
    "print(f'l2 норма вектора a: {norm(a, ord=2)}')\n",
    "print(f'l2 норма вектора b: {norm(b, 2)}')"
   ]
  },
  {
   "cell_type": "code",
   "execution_count": 7,
   "metadata": {},
   "outputs": [
    {
     "name": "stdout",
     "output_type": "stream",
     "text": [
      "Косинус угла между a и b: 0.90\n",
      "Угол между a и b: 0.46\n"
     ]
    }
   ],
   "source": [
    "cos_phi = np.dot(a, b) / norm(a) / norm(b)\n",
    "print(f'Косинус угла между a и b: {cos_phi:.2f}')\n",
    "print(f'Угол между a и b: {np.arccos(cos_phi):.2f}')"
   ]
  },
  {
   "cell_type": "markdown",
   "metadata": {},
   "source": [
    "### 3. Будет ли линейное пространство евклидовым, если за скалярное произведение принять:\n",
    "-- а) произведение длин векторов;\n",
    "\n",
    "-- б) утроенное обычное скалярное произведение векторов?\n"
   ]
  },
  {
   "cell_type": "markdown",
   "metadata": {},
   "source": [
    "### 4. Какие из нижеперечисленных векторов образуют ортонормированный базис в линейном пространстве $\\mathbb{R}^{3}$:<br>\n",
    "а) $(1,0,0),(0,0,1);$ <br>\n",
    "б) $(1/\\sqrt{2},-1/\\sqrt{2},0),(1/\\sqrt{2},1/\\sqrt{2},0), (0,0,1);$<br>\n",
    "в) $(1/2, -1/2, 0), (0, 1/2, 1/2), (0,0,1);$<br>\n",
    "г) $(1,0,0),(0,1,0),(0,0,1)?$ \n",
    "\n",
    "**Решение**"
   ]
  },
  {
   "cell_type": "code",
   "execution_count": 62,
   "metadata": {},
   "outputs": [],
   "source": [
    "def verify(let, x, y, z = ' '):\n",
    "    \n",
    "    if type(z) != str:\n",
    "        scal = np.dot(x, y) + np.dot(x, z)\n",
    "        norm_z = np.round(norm(z), 2)\n",
    "    else:\n",
    "        scal = np.dot(x, y)\n",
    "        norm_z = 1\n",
    "\n",
    "    norm_x = np.round(norm(x), 2)\n",
    "    norm_y = np.round(norm(y), 2)\n",
    "\n",
    "    if scal == 0 and norm_x == 1 and norm_y == 1 and norm_z == 1:\n",
    "        print(f'{let}) Векторы образуют ортонормированный базис в линейном пространстве R3, потому как:')\n",
    "    else:\n",
    "        print(f'{let}) Векторы НЕ образуют ортонормированный базис в линейном пространстве R3, потому как:')   \n",
    "\n",
    "    print(f'скалярное произведение = {scal}')\n",
    "    print(f'l2 норма вектора x = {norm_x}')\n",
    "    print(f'l2 норма вектора y = {norm_y}')\n",
    "    if type(z) != str:\n",
    "        print(f'l2 норма вектора z = {norm_z}')\n",
    "    else:\n",
    "        pass"
   ]
  },
  {
   "cell_type": "code",
   "execution_count": 63,
   "metadata": {},
   "outputs": [
    {
     "name": "stdout",
     "output_type": "stream",
     "text": [
      "a) Векторы образуют ортонормированный базис в линейном пространстве R3, потому как:\n",
      "скалярное произведение = 0\n",
      "l2 норма вектора x = 1.0\n",
      "l2 норма вектора y = 1.0\n"
     ]
    }
   ],
   "source": [
    "x_a = np.array([1, 0, 0])\n",
    "y_a = np.array([0, 0, 1])\n",
    "\n",
    "verify('a', x_a, y_a)"
   ]
  },
  {
   "cell_type": "code",
   "execution_count": 64,
   "metadata": {},
   "outputs": [
    {
     "name": "stdout",
     "output_type": "stream",
     "text": [
      "б) Векторы образуют ортонормированный базис в линейном пространстве R3, потому как:\n",
      "скалярное произведение = 0.0\n",
      "l2 норма вектора x = 1.0\n",
      "l2 норма вектора y = 1.0\n",
      "l2 норма вектора z = 1.0\n"
     ]
    }
   ],
   "source": [
    "x_b = np.array([1/2**0.5, -1/2**0.5, 0])\n",
    "y_b = np.array([1/2**0.5, 1/2**0.5, 0])\n",
    "z_b = np.array([0, 0, 1])\n",
    "\n",
    "verify('б', x_b, y_b, z_b)"
   ]
  },
  {
   "cell_type": "code",
   "execution_count": 65,
   "metadata": {},
   "outputs": [
    {
     "name": "stdout",
     "output_type": "stream",
     "text": [
      "в) Векторы НЕ образуют ортонормированный базис в линейном пространстве R3, потому как:\n",
      "скалярное произведение = -0.25\n",
      "l2 норма вектора x = 0.71\n",
      "l2 норма вектора y = 0.71\n",
      "l2 норма вектора z = 1.0\n"
     ]
    }
   ],
   "source": [
    "x_c = np.array([1/2, -1/2, 0])\n",
    "y_c = np.array([0, 1/2, 1/2])\n",
    "z_c = np.array([0, 0, 1])\n",
    "\n",
    "verify('в', x_c, y_c, z_c)"
   ]
  },
  {
   "cell_type": "code",
   "execution_count": 66,
   "metadata": {},
   "outputs": [
    {
     "name": "stdout",
     "output_type": "stream",
     "text": [
      "г) Векторы образуют ортонормированный базис в линейном пространстве R3, потому как:\n",
      "скалярное произведение = 0\n",
      "l2 норма вектора x = 1.0\n",
      "l2 норма вектора y = 1.0\n",
      "l2 норма вектора z = 1.0\n"
     ]
    }
   ],
   "source": [
    "x_d = np.array([1, 0, 0])\n",
    "y_d = np.array([0, 1, 0])\n",
    "z_d = np.array([0, 0, 1])\n",
    "\n",
    "verify('г', x_d, y_d, z_d)"
   ]
  },
  {
   "cell_type": "code",
   "execution_count": null,
   "metadata": {},
   "outputs": [],
   "source": []
  }
 ],
 "metadata": {
  "kernelspec": {
   "display_name": "Python 3",
   "language": "python",
   "name": "python3"
  },
  "language_info": {
   "codemirror_mode": {
    "name": "ipython",
    "version": 3
   },
   "file_extension": ".py",
   "mimetype": "text/x-python",
   "name": "python",
   "nbconvert_exporter": "python",
   "pygments_lexer": "ipython3",
   "version": "3.7.4"
  }
 },
 "nbformat": 4,
 "nbformat_minor": 2
}
